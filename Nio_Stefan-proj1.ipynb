{
 "cells": [
  {
   "cell_type": "markdown",
   "id": "a6b964c7-c33c-42a1-958d-7e842295ccad",
   "metadata": {},
   "source": [
    "# Project 1 [CITS5017] Deep Learning\n",
    "### Stefan Nio [23104714]\n",
    "### 15% Weighting, Due Friday, 13th September 2024\n",
    "\n",
    "\n",
    "### 1. Outline\n",
    "In this project you will deal with a small colour image dataset containing 10 classes. Each image has\n",
    "64×64 pixels. Although both the training set and validation set are perfectly balanced, there are only 200\n",
    "training instances available for each class. Your tasks for this project are to train a CNN model, to retrain\n",
    "a pre-trained model through transfer learning, and compare the performances of these two models. This\n",
    "project is a good practical exercise to test your understanding of the techniques covered in Chapters 10,\n",
    "11, and 14.\n"
   ]
  },
  {
   "cell_type": "markdown",
   "id": "725126e9-94cb-4c4b-a1bf-cb3c2e56aa3e",
   "metadata": {},
   "source": [
    "### 2. Submission\n",
    "Submit your three files above (a .ipynb file and two .keras model files to cssubmit (https://secure.csse.uwa.edu.au/run/cssubmit).\n",
    "\n",
    "\n",
    "Name your Jupyter Notebook file as Surname FirstName-proj1.ipynb (please replace Surname and\n",
    "FirstName1 by your own surname and first name). Please save your two trained models to the files Surname FirstName-CNN.keras and Surname FirstName-MobileNetV2.keras. You need to make sure\n",
    "that your models were saved in the same directory (i.e., not under a subdirectory) with your Notebook\n",
    "file, as this is what we will assume in our marking process."
   ]
  },
  {
   "cell_type": "markdown",
   "id": "7583a5d1-4b9a-4c49-9d3a-c98ed0a150a0",
   "metadata": {},
   "source": [
    "### 3. The Image Dataset\n",
    "Two pickle files, train.pkl and val.pkl, are supplied on the LMS page of the unit. Download these two\n",
    "files and save them in the same directory where you would develop your code. Use the following code\n",
    "to load the data:"
   ]
  },
  {
   "cell_type": "code",
   "execution_count": null,
   "id": "81e1868a-a871-4243-bc1b-e3b2fd039b4b",
   "metadata": {},
   "outputs": [],
   "source": []
  }
 ],
 "metadata": {
  "kernelspec": {
   "display_name": "Python 3 (ipykernel)",
   "language": "python",
   "name": "python3"
  },
  "language_info": {
   "codemirror_mode": {
    "name": "ipython",
    "version": 3
   },
   "file_extension": ".py",
   "mimetype": "text/x-python",
   "name": "python",
   "nbconvert_exporter": "python",
   "pygments_lexer": "ipython3",
   "version": "3.12.4"
  }
 },
 "nbformat": 4,
 "nbformat_minor": 5
}
